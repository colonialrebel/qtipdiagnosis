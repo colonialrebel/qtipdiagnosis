{
 "cells": [
  {
   "cell_type": "markdown",
   "metadata": {},
   "source": [
    "# This File will step by step create proof of concept data for entry into the database via .csv export/import"
   ]
  },
  {
   "cell_type": "code",
   "execution_count": 11,
   "metadata": {},
   "outputs": [
    {
     "name": "stdout",
     "output_type": "stream",
     "text": [
      "How many patients will we have?\n",
      "100\n"
     ]
    }
   ],
   "source": [
    "#First let's import some stuff I'm going to need:\n",
    "import random\n",
    "import csv\n",
    "\n",
    "#Now let's create some new patient IDs\n",
    "patientnum=0\n",
    "patientID = []\n",
    "def createPatientIDs():\n",
    "    patientnum = input(\"How many patients will we have?\\n\")\n",
    "    for i in range(0,int(patientnum)):\n",
    "        patientID.append(1000000 + i)\n",
    "createPatientIDs()\n",
    "\n",
    "        #### I no longer need the following section as I procedurely generate Practice ID's for my scenario\n",
    "# Let's get some Practice ID's set up        \n",
    "#practiceid=[]\n",
    "#def createPracticeIDs():\n",
    "#    practicenum = input(\"How many practices are participating?\\n\")\n",
    "#    for n in range(0,int(practicenum)):\n",
    "#        practiceid.append(6000+n)\n",
    "\n",
    "#createPracticeIDs()"
   ]
  },
  {
   "cell_type": "markdown",
   "metadata": {},
   "source": [
    "### Now we need to make some housekeeping elements to contain our data. To do this I will create a class for Patients to store ID, age, ethnicity, and other details"
   ]
  },
  {
   "cell_type": "code",
   "execution_count": 17,
   "metadata": {},
   "outputs": [],
   "source": [
    "class Patient:\n",
    "    def __init__(self,idn,age,gender,ethnicity):\n",
    "        self.idn     = idn     # given Identification number\n",
    "        self.age     = age     # age of individual\n",
    "        self.gender  = gender  # biological gender\n",
    "        self.ethnicity    = ethnicity    # ethnicity of individual\n",
    "        #self.control = control # 1 if control / 0 if not a control\n",
    "class Case:\n",
    "    def __init__(self,casenum,pid,practice_id,date):\n",
    "        self.casenum=casenum\n",
    "        self.pid=pid\n",
    "        self.practice_id=practice_id\n",
    "        self.date=date"
   ]
  },
  {
   "cell_type": "markdown",
   "metadata": {},
   "source": [
    "### With a general organization for a patient setup, more structure is needed to create faux patients for this scenario.  A dictionary of ethnicitys for example, but also dictionaries for gender and carie location (or control) per individual to best create randomness\n",
    "##### Note that Mandibular is the lower jaw while Maxillary is the upper jaw. Additionally Left and right is deteremined from the perspective of the patient. Dentists do use specific numbers (and letters for childhood teeth) but I am interested in the regions instead of the specific teeth."
   ]
  },
  {
   "cell_type": "code",
   "execution_count": 14,
   "metadata": {},
   "outputs": [],
   "source": [
    "genderDict = {0:\"F\",1:\"M\"}\n",
    "ethnicityDict = {0:\"White\", 1: \"African American\", 2: \"Hispanic/Latino\", 3: \"Native American\", 4: \"Pacific Islander\", \n",
    "            5: \"East Asian\", 6: \"Indian/Middle Eastern\", 7: \"Other\"}\n",
    "carieDict = {1: \"Maxillary Right Molar\",       2: \"Maxillary Right Pre-Molar\", 3: \"Maxillary Right Canine\", \n",
    "             4: \"Maxillary Incisors\",     5: \"Maxillary Left Canine\",       6: \"Maxillary Left Pre-Molar\",  7: \"Maxillary Left Molar\", \n",
    "             8: \"Mandibular Right Molar\", 9: \"Mandibular Right Pre-Molar\", 10: \"Mandibular Right Canine\",  11: \"Mandibular Incisor\",\n",
    "            12: \"Mandibular Left Canine\",13: \"Mandibular Left Pre-Molar\",  14: \"Mandibular Left Molar\"}\n",
    "#lets make the region table\n",
    "with open('Region_Table.csv', 'w', newline='') as ccsv:\n",
    "    cFieldNames = [\"Region\", \"regionDescriptor\"]\n",
    "    cwriter = csv.DictWriter(ccsv, fieldnames=cFieldNames)\n",
    "    cwriter.writeheader()\n",
    "    for num in range(1,15): #for each region\n",
    "        cwriter.writerow({\"Region\": num, \"regionDescriptor\": carieDict[num]}) #write the region id and it's string descriptor"
   ]
  },
  {
   "cell_type": "markdown",
   "metadata": {},
   "source": [
    "### From here I will arbitrarily select a number of bacteria and viruses to be entered into a dictionary. For testing purposes, the bacteria will be selected from these selected names."
   ]
  },
  {
   "cell_type": "code",
   "execution_count": 15,
   "metadata": {},
   "outputs": [],
   "source": [
    "#Below will be two abbreviated dictionaries with a selection of bacteria and Viruses\n",
    "bacteriaDict = {0: \"Abiotrophia defectiva\", 1: \"Actinomyces dentalis\",2: \"Actinomyces gerencseriae\", 3:\"Actinomyces graevenitzii\", \n",
    "                4:\"Aggregatibacter segnis\", 5:\"Actinomyces johnsonii\", 6:\"Atopobium parvulum\", 7:\"Campylobacter gracilis\", \n",
    "                8: \"Actinomyces oris\", 9: \"Capnocytophaga gingivalis\", 10: \"Comamonas testosteroni\", 11: \"Gemella bergeri\", \n",
    "                12: \"Haemophilus aegyptius\" , 13: \"Kingella denitrificans\", 14: \"Kingella oralis\", 15: \"Lachnoanaerobaculum orale\", \n",
    "                16: \"Lachnoanaerobaculum saburreum\", 17: \"Lactobacillus salivarius\", 18: \"Neisseria bacilliformis\", 19: \"Neisseria oralis\", \n",
    "                20: \"Oribacterium asaccharolyticum\", 21: \"Peptidiphaga gingivicola\", 22: \"Peptostreptococcus anaerobius\", 23: \"Porphyromonas endodontalis\", \n",
    "                24: \"Porphyromonas gingivalis\", 25: \"Prevotella dentalis\", 26: \"Prevotella denticola\", 27: \"Staphylococcus epidermidis\", \n",
    "                28: \"Streptococcus mutans\", 29: \"Treponema denticola\", 30: \"Veillonella denticariosi\"\n",
    "               }\n",
    "virusDict = {0: \"HSV-1\", 1: \"HSV-2\",2: \"Varicella\", 3:\"Herpes zoster\", \n",
    "             4:\"Coxsackievirus A\", 5:\"Coxsackievirus B\", 6:\"Epstein-Barr virus\", 7:\"Rubeola\", \n",
    "             8: \"Paramyxovirus\", 9: \"Kaposi sarcoma-associated herpecirus\", 10: \"human cytomegalovirus\", 11: \"human herpesvirus 6\", \n",
    "             12: \"human herpesvirus 7\"\n",
    "            }"
   ]
  },
  {
   "cell_type": "markdown",
   "metadata": {},
   "source": [
    "## Now it's time to put things together and create patients each with 14 regions that each have a list of bacteria names with proportion prevalence and a list of viral names with proportion prevalence.\n",
    "### A note about controls:  In this scenario I want about half of my patients as controls but this will be denoted by the patient's casenum. Controls have no cavities"
   ]
  },
  {
   "cell_type": "code",
   "execution_count": 18,
   "metadata": {},
   "outputs": [],
   "source": [
    "patientDict = {}\n",
    "with open('Patient_Table.csv', 'w', newline='') as patientcsv:\n",
    "    patientFieldNames = [\"Patient ID\", \"Age\", \"Biological Gender\", \"ethnicity\"]\n",
    "    patientwriter = csv.DictWriter(patientcsv, fieldnames=patientFieldNames)\n",
    "    patientwriter.writeheader()\n",
    "    for pid in patientID: #for each patient\n",
    "        patientDict[pid] = Patient(pid,                           #pid from the previously created list\n",
    "                             random.randint(18,75),           #random age between 18 and 75 years old\n",
    "                             genderDict[random.randint(0,1)], #random gender\n",
    "                             ethnicityDict[random.randint(0,7)]   #random ethnicity\n",
    "                             )\n",
    "        #write this patient to the patient csv file\n",
    "        patientwriter.writerow({\"Patient ID\": patientDict[pid].idn, \n",
    "                                \"Age\": patientDict[pid].age, \n",
    "                                \"Biological Gender\": patientDict[pid].gender, \n",
    "                                \"ethnicity\": patientDict[pid].ethnicity,})\n",
    "\n",
    "\n",
    "        "
   ]
  },
  {
   "cell_type": "markdown",
   "metadata": {},
   "source": [
    "## Creating some helper functions while also populating the Case_table"
   ]
  },
  {
   "cell_type": "code",
   "execution_count": 19,
   "metadata": {},
   "outputs": [],
   "source": [
    "# Inserting small helper functions here to help prevent repeats\n",
    "\n",
    "def createDate():  #Generates a date in String form\n",
    "    day=str(random.randint(1,28))\n",
    "    month=str(random.randint(1,12))\n",
    "    year=str(random.randint(2020,2022))\n",
    "    string = month+\"/\"+day+\"/\"+year\n",
    "    return string\n",
    "\n",
    "def entry(casenum,region): #uses casenum and region to create an entryid\n",
    "    return (str(casenum)+\"_\"+str(region))\n",
    "\n",
    "# Looking back on this, I could have done this more efficiently by creating the list and picking from it \n",
    "            # instead of repeatedly getting a random number and checking it\n",
    "            # THIS IS INEFFICIENT\n",
    "def selectElements(start,    #starting number of the range of numbers to pick from\n",
    "                   end,      #ending number of the range\n",
    "                   num       #number of elements requested\n",
    "                   ):\n",
    "    elements = []\n",
    "    x=0\n",
    "    a = 0\n",
    "    while x < num:\n",
    "        a=a+1\n",
    "        number = random.randint(start,end)\n",
    "        if number in elements: #if i have already picked this number, do a no-op\n",
    "            b=1\n",
    "        else:                  #if the number is new, add it to my list\n",
    "            elements.append(number)\n",
    "            x=x+1\n",
    "    #print(a) #tells me how many runs were needed to get the final list\n",
    "    return elements\n",
    "#selectElements(1,10,10) #testing statement"
   ]
  },
  {
   "cell_type": "code",
   "execution_count": 27,
   "metadata": {},
   "outputs": [],
   "source": [
    "#create Cases and write them to Case_Table\n",
    "caseDict = {}\n",
    "for pid in patientID:\n",
    "    control = \"C\"\n",
    "    experimental = \"E\"\n",
    "    #this if else ensures half our cases are controls\n",
    "    if pid%2 >0:\n",
    "        casenum = control+str(pid-1000000)\n",
    "    else:\n",
    "        casenum = experimental+str(pid-1000000)\n",
    "    caseDict[pid]=Case(casenum,pid,random.randint(6000,6030),createDate())\n",
    "with open('Case_Table.csv','w',newline='') as casecsv:\n",
    "    caseFieldNames=[\"casenum\",\"pid\",\"practice_id\",\"date\"]\n",
    "    casewriter = csv.DictWriter(casecsv,fieldnames=caseFieldNames)\n",
    "    casewriter.writeheader()\n",
    "    for case in caseDict:\n",
    "        casewriter.writerow({\"casenum\":caseDict[case].casenum,\"pid\":caseDict[case].pid,\"practice_id\":caseDict[case].practice_id,\"date\":caseDict[case].date})"
   ]
  },
  {
   "cell_type": "markdown",
   "metadata": {},
   "source": [
    "### The patients have now been created. From here, I can begin creating assay \"results\". \n",
    " #### Each patient will have 28 lists of 10 names and their associated proportions"
   ]
  },
  {
   "cell_type": "code",
   "execution_count": 25,
   "metadata": {},
   "outputs": [],
   "source": [
    "with open('Bacteria_Data_Table.csv','w',newline='') as bactcsv:\n",
    "    bactFieldNames = [\"entryid\",\"casenum\", \"Region\",\n",
    "                     \"Bacteria 1 Name\", \"Bacteria 1 Prevalence\",\n",
    "                     \"Bacteria 2 Name\", \"Bacteria 2 Prevalence\",\n",
    "                     \"Bacteria 3 Name\", \"Bacteria 3 Prevalence\",\n",
    "                     \"Bacteria 4 Name\", \"Bacteria 4 Prevalence\",\n",
    "                     \"Bacteria 5 Name\", \"Bacteria 5 Prevalence\",\n",
    "                     \"Bacteria 6 Name\", \"Bacteria 6 Prevalence\",\n",
    "                     \"Bacteria 7 Name\", \"Bacteria 7 Prevalence\",\n",
    "                     \"Bacteria 8 Name\", \"Bacteria 8 Prevalence\",\n",
    "                     \"Bacteria 9 Name\", \"Bacteria 9 Prevalence\",\n",
    "                     \"Bacteria 10 Name\", \"Bacteria 10 Prevalence\"\n",
    "                     ]\n",
    "    bactwriter = csv.DictWriter(bactcsv, fieldnames=bactFieldNames)\n",
    "    bactwriter.writeheader()\n",
    "    #the header has been written now, time to put some 'real' simulated data into the model\n",
    "    for case in caseDict:        #for each case\n",
    "        for region in carieDict: #for each region\n",
    "            #At this point I need to figure out some prevalance data.\n",
    "            #I will generate 10 floats (up to 2 decimal points).\n",
    "            #I then will sum up the values, to get a denominator to divide each value by. \n",
    "            #Each value will then be multiplied by 100 to get a final prevalence %.\n",
    "            #And Finally the percentages will be sorted in descending order.\n",
    "            values = []\n",
    "            for i in range(0,10):\n",
    "                values.append(round(random.uniform(5.00,50.00), 2))\n",
    "            sumvals = sum(values)\n",
    "            finalvals = []\n",
    "            for v in values:\n",
    "                finalvals.append(round((v/sumvals) *100,2))\n",
    "            finalvals = sorted(finalvals,reverse=True)\n",
    "            # The values have been determined but it's now time to figure out what bacteria is present\n",
    "            # The dictionary 'bacteriaDict' has 31 bacteria species. I will use the helper function written above \n",
    "                    # to randomly select 10 of them without repeating.\n",
    "            bacteriaNums = selectElements(0,30,10) # We get the 10 numbers\n",
    "            bacteriaNames = []\n",
    "            for bnums in bacteriaNums:\n",
    "                bacteriaNames.append(bacteriaDict[bnums]) # Find the numbers in the dictionary and translate them to names\n",
    "            # Now we write this region for this patient to the csv and move to the next patient/region\n",
    "            bactwriter.writerow({\"entryid\": entry(caseDict[case].casenum,region),\n",
    "                                 \"casenum\": caseDict[case].casenum, \n",
    "                                 \"Region\": region,\n",
    "                                 \"Bacteria 1 Name\"       : bacteriaNames[0], \n",
    "                                 \"Bacteria 1 Prevalence\" : finalvals[0],\n",
    "                                 \"Bacteria 2 Name\"       : bacteriaNames[1], \n",
    "                                 \"Bacteria 2 Prevalence\" : finalvals[1],\n",
    "                                 \"Bacteria 3 Name\"       : bacteriaNames[2], \n",
    "                                 \"Bacteria 3 Prevalence\" : finalvals[2],\n",
    "                                 \"Bacteria 4 Name\"       : bacteriaNames[3], \n",
    "                                 \"Bacteria 4 Prevalence\" : finalvals[3],\n",
    "                                 \"Bacteria 5 Name\"       : bacteriaNames[4], \n",
    "                                 \"Bacteria 5 Prevalence\" : finalvals[4],\n",
    "                                 \"Bacteria 6 Name\"       : bacteriaNames[5], \n",
    "                                 \"Bacteria 6 Prevalence\" : finalvals[5],\n",
    "                                 \"Bacteria 7 Name\"       : bacteriaNames[6], \n",
    "                                 \"Bacteria 7 Prevalence\" : finalvals[6],\n",
    "                                 \"Bacteria 8 Name\"       : bacteriaNames[7], \n",
    "                                 \"Bacteria 8 Prevalence\" : finalvals[7],\n",
    "                                 \"Bacteria 9 Name\"       : bacteriaNames[8],  \n",
    "                                 \"Bacteria 9 Prevalence\" : finalvals[8],\n",
    "                                 \"Bacteria 10 Name\"      : bacteriaNames[9], \n",
    "                                 \"Bacteria 10 Prevalence\": finalvals[9]\n",
    "                \n",
    "            }) "
   ]
  },
  {
   "cell_type": "markdown",
   "metadata": {},
   "source": [
    "### The above writes the bacterial frequency csv. I now do the exact same thing but for the viruses. So below this is a copy and paste as the above code"
   ]
  },
  {
   "cell_type": "code",
   "execution_count": 26,
   "metadata": {},
   "outputs": [],
   "source": [
    "with open('Virus_Data_Table.csv','w',newline='') as viralcsv:\n",
    "    viralFieldNames = [\"entryid\", \"casenum\", \"Region\",\n",
    "                     \"Virus 1 Name\", \"Virus 1 Prevalence\",\n",
    "                     \"Virus 2 Name\", \"Virus 2 Prevalence\",\n",
    "                     \"Virus 3 Name\", \"Virus 3 Prevalence\",\n",
    "                     \"Virus 4 Name\", \"Virus 4 Prevalence\",\n",
    "                     \"Virus 5 Name\", \"Virus 5 Prevalence\",\n",
    "                     \"Virus 6 Name\", \"Virus 6 Prevalence\",\n",
    "                     \"Virus 7 Name\", \"Virus 7 Prevalence\",\n",
    "                     \"Virus 8 Name\", \"Virus 8 Prevalence\",\n",
    "                     \"Virus 9 Name\", \"Virus 9 Prevalence\",\n",
    "                     \"Virus 10 Name\", \"Virus 10 Prevalence\"\n",
    "                     ]\n",
    "    viralwriter = csv.DictWriter(viralcsv, fieldnames=viralFieldNames)\n",
    "    viralwriter.writeheader()\n",
    "    #the header has been written now, time to put some 'real' simulated data into the model\n",
    "    for case in caseDict:        #for each patient\n",
    "        for region in carieDict: #for each region\n",
    "            #At this point I need to figure out some prevalance data.\n",
    "            #I will generate 10 floats (up to 2 decimal points).\n",
    "            #I then will sum up the values, to get a denominator to divide each value by. \n",
    "            #Each value will then be multiplied by 100 to get a final prevalence %.\n",
    "            #And Finally the percentages will be sorted in descending order.\n",
    "            values = []\n",
    "            for i in range(0,10):\n",
    "                values.append(round(random.uniform(5.00,50.00), 2))\n",
    "            sumvals = sum(values)\n",
    "            finalvals = []\n",
    "            for v in values:\n",
    "                finalvals.append(round((v/sumvals) *100,2))\n",
    "            finalvals = sorted(finalvals,reverse=True)\n",
    "            # The values have been determined but it's now time to figure out what virus is present\n",
    "            # The dictionary 'virusDict' has 13 viral species. I will use the helper function written above \n",
    "                    # to randomly select 10 of them without repeating.\n",
    "            viralNums = selectElements(0,12,10) # We get the 10 numbers\n",
    "            viralNames = []\n",
    "            for vnums in viralNums:\n",
    "                viralNames.append(virusDict[vnums]) # Find the numbers in the dictionary and translate them to names\n",
    "            # Now we write this region for this patient to the csv and move to the next patient/region\n",
    "            viralwriter.writerow({ \"entryid\":entry(caseDict[case].casenum,region),\n",
    "                                  \"casenum\": caseDict[case].casenum, \n",
    "                                 \"Region\": region,\n",
    "                                 \"Virus 1 Name\"       : viralNames[0], \n",
    "                                 \"Virus 1 Prevalence\" : finalvals[0],\n",
    "                                 \"Virus 2 Name\"       : viralNames[1], \n",
    "                                 \"Virus 2 Prevalence\" : finalvals[1],\n",
    "                                 \"Virus 3 Name\"       : viralNames[2], \n",
    "                                 \"Virus 3 Prevalence\" : finalvals[2],\n",
    "                                 \"Virus 4 Name\"       : viralNames[3], \n",
    "                                 \"Virus 4 Prevalence\" : finalvals[3],\n",
    "                                 \"Virus 5 Name\"       : viralNames[4], \n",
    "                                 \"Virus 5 Prevalence\" : finalvals[4],\n",
    "                                 \"Virus 6 Name\"       : viralNames[5], \n",
    "                                 \"Virus 6 Prevalence\" : finalvals[5],\n",
    "                                 \"Virus 7 Name\"       : viralNames[6], \n",
    "                                 \"Virus 7 Prevalence\" : finalvals[6],\n",
    "                                 \"Virus 8 Name\"       : viralNames[7], \n",
    "                                 \"Virus 8 Prevalence\" : finalvals[7],\n",
    "                                 \"Virus 9 Name\"       : viralNames[8],  \n",
    "                                 \"Virus 9 Prevalence\" : finalvals[8],\n",
    "                                 \"Virus 10 Name\"      : viralNames[9], \n",
    "                                 \"Virus 10 Prevalence\": finalvals[9]\n",
    "                \n",
    "            }) "
   ]
  }
 ],
 "metadata": {
  "kernelspec": {
   "display_name": "Python 3",
   "language": "python",
   "name": "python3"
  },
  "language_info": {
   "codemirror_mode": {
    "name": "ipython",
    "version": 3
   },
   "file_extension": ".py",
   "mimetype": "text/x-python",
   "name": "python",
   "nbconvert_exporter": "python",
   "pygments_lexer": "ipython3",
   "version": "3.8.3"
  }
 },
 "nbformat": 4,
 "nbformat_minor": 4
}
